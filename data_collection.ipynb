{
 "cells": [
  {
   "cell_type": "markdown",
   "id": "14f8a4b8",
   "metadata": {},
   "source": [
    "1. Choose a Python library\n",
    "\n",
    "Two common ways to get FRED data programmatically:\n",
    "\t•\tfredapi — dedicated wrapper for FRED’s API. Requires a free API key from St. Louis Fed.\n",
    "\t•\tpandas_datareader — can also pull FRED series directly without an API key (though sometimes rate-limited).\n",
    "\n",
    "For a pipeline that you’ll rerun regularly, fredapi is more robust.\n",
    "\n",
    "2. Get a FRED API key\n",
    "\n",
    "Go to https://fred.stlouisfed.org/docs/api/api_key.html, sign up (free), and copy your key.\n",
    "Store it as an environment variable in your .env file or in your shell: \n",
    "\n",
    "export FRED_API_KEY=\"your_api_key_here\"\n",
    "\n",
    "This keeps it out of your code repository.\n",
    "\n",
    "3. Install the library\n",
    "   pip install fredapi pandas\n",
    "4. Basic code to fetch series\n",
    "   from fredapi import Fred\n",
    "    import pandas as pd\n",
    "    import os\n",
    "\n",
    "    fred = Fred(api_key=os.getenv(\"FRED_API_KEY\"))\n",
    "\n",
    "    # choose some series IDs\n",
    "    series_ids = {\n",
    "        \"10y_treasury\": \"DGS10\",\n",
    "        \"2y_treasury\": \"DGS2\",\n",
    "        \"high_yield_spread\": \"BAMLH0A0HYM2\",\n",
    "        \"unemployment_rate\": \"UNRATE\"\n",
    "    }\n",
    "\n",
    "    # download each as a dataframe and join\n",
    "    dfs = []\n",
    "    for name, sid in series_ids.items():\n",
    "        data = fred.get_series(sid)  # returns pandas Series with Date index\n",
    "        df = data.to_frame(name)\n",
    "        dfs.append(df)\n",
    "\n",
    "    market_data = pd.concat(dfs, axis=1)\n",
    "\n",
    "    # optional: resample monthly to match loan origination\n",
    "    market_monthly = market_data.resample('M').last()\n",
    "\n",
    "    market_monthly.to_csv(\"market_variables.csv\")\n",
    "\n",
    "    This gives you a single CSV of macro/market variables indexed by date. Your loan dataset can then be merged on origination_date rounded to month.\n",
    "\n",
    "5. Make it a “pipeline”\n",
    "\n",
    "Put the above code into a script (e.g. fetch_market_data.py).\n",
    "Every time you run it, it refreshes the CSV.\n",
    "\n",
    "If you want it automated:\n",
    "\t•\tUse a cron job or GitHub Actions to run the script weekly.\n",
    "\t•\tOr add it as a notebook cell in your main data prep notebook so it always fetches the latest.\n",
    "\n",
    "⸻\n",
    "\n",
    "6. Extra touches\n",
    "\t•\tParameterize: Put the series IDs in a YAML/JSON file so you can add/remove variables easily.\n",
    "\t•\tLogging: Use logging to print when each series was last updated.\n",
    "\t•\tData integrity: Save raw pulls in a /raw_data folder with a timestamp before cleaning."
   ]
  },
  {
   "cell_type": "code",
   "execution_count": null,
   "id": "75435258",
   "metadata": {
    "vscode": {
     "languageId": "plaintext"
    }
   },
   "outputs": [],
   "source": []
  }
 ],
 "metadata": {
  "language_info": {
   "name": "python"
  }
 },
 "nbformat": 4,
 "nbformat_minor": 5
}
